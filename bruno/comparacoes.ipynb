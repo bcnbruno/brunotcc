{
 "cells": [
  {
   "cell_type": "code",
   "execution_count": 49,
   "metadata": {},
   "outputs": [
    {
     "name": "stderr",
     "output_type": "stream",
     "text": [
      "/home/dpi/.local/lib/python3.6/site-packages/ipykernel_launcher.py:16: RuntimeWarning: invalid value encountered in double_scalars\n",
      "  app.launch_new_instance()\n"
     ]
    },
    {
     "name": "stdout",
     "output_type": "stream",
     "text": [
      "Arquivo solutions-new/wines/compara_wines.csv gerado\n",
      "Arquivo solutions-new/moba/compara_moba.csv gerado\n",
      "Arquivo solutions-new/seizure/compara_seizure.csv gerado\n"
     ]
    }
   ],
   "source": [
    "import pandas as pd\n",
    "\n",
    "path = 'solutions-new/'\n",
    "bases = ['wines', 'moba', 'seizure']\n",
    "metricas = ['BEST_AVG', 'BEST_STD', 'AVG_ALL', 'STD_ALL', 'TIME_AVG', 'TIME_STD', 'HASH_SIZE_AVG', 'HASH_SIZE_STD']\n",
    "\n",
    "def compara(dados, metrica):\n",
    "    tabela = [[metrica]]\n",
    "    for alg1 in dados['ALGORITHM']:\n",
    "        linha1 = dados.loc[dados['ALGORITHM'] == alg1]\n",
    "        tabela.append([alg1])\n",
    "        for alg2 in dados['ALGORITHM']:\n",
    "            if len(tabela[0]) <= len(dados['ALGORITHM']):\n",
    "                tabela[0].append(alg2)\n",
    "            linha2 = dados.loc[dados['ALGORITHM'] == alg2]\n",
    "            proporcao = linha1[metrica].values[0] / linha2[metrica].values[0]\n",
    "            tabela[-1].append(str(proporcao))\n",
    "    \n",
    "    for i,linha in enumerate(tabela):\n",
    "        tabela[i] = ','.join(linha)\n",
    "    tabela = '\\n'.join(tabela)\n",
    "    \n",
    "    return tabela\n",
    "\n",
    "for base in bases:\n",
    "    arquivo = path + base + '/tabela_' + base + '.csv'\n",
    "    arquivo_saida = path + base + '/compara_' + base + '.csv'\n",
    "    dados = pd.read_csv(arquivo)\n",
    "    saida = []\n",
    "    for metrica in metricas:\n",
    "        saida.append(compara(dados, metrica))\n",
    "    \n",
    "    saida = '\\n,,,\\n'.join(saida)\n",
    "    \n",
    "    fp = open(arquivo_saida, 'w')\n",
    "    fp.write(saida)\n",
    "    fp.close()\n",
    "    \n",
    "    print('Arquivo %s gerado' % arquivo_saida)\n",
    "        "
   ]
  },
  {
   "cell_type": "code",
   "execution_count": null,
   "metadata": {},
   "outputs": [],
   "source": []
  }
 ],
 "metadata": {
  "kernelspec": {
   "display_name": "Python 3",
   "language": "python",
   "name": "python3"
  },
  "language_info": {
   "codemirror_mode": {
    "name": "ipython",
    "version": 3
   },
   "file_extension": ".py",
   "mimetype": "text/x-python",
   "name": "python",
   "nbconvert_exporter": "python",
   "pygments_lexer": "ipython3",
   "version": "3.6.7"
  }
 },
 "nbformat": 4,
 "nbformat_minor": 2
}
