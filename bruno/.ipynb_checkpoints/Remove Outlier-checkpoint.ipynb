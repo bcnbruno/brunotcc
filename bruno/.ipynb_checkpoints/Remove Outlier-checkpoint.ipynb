{
 "cells": [
  {
   "cell_type": "code",
   "execution_count": 22,
   "metadata": {},
   "outputs": [
    {
     "data": {
      "text/plain": [
       "(11953, 9)"
      ]
     },
     "execution_count": 22,
     "metadata": {},
     "output_type": "execute_result"
    }
   ],
   "source": [
    "import numpy as np\n",
    "import pandas as pd\n",
    "\n",
    "data = pd.read_excel('modules/databases/moba-gabriel/data_pruned_df.xlsx', header=None)\n",
    "#data = data.drop(0)\n",
    "#data = data.drop([0, 179], axis=1)\n",
    "\n",
    "C = 2.0\n",
    "\n",
    "def no_outlier(d):\n",
    "    data = d\n",
    "    for a in data.columns.values:\n",
    "        data[a] = [float(e) for e in data[a].values]\n",
    "        media = data[a].mean()\n",
    "        desvio = data[a].std()\n",
    "        for b in data.index.values:\n",
    "            if( abs(data[a][b] - media) > (C * desvio)  ):\n",
    "                data = data.drop(b) \n",
    "    return data\n",
    "\n",
    "data = no_outlier(data)\n",
    "data.to_excel('modules/databases/moba-gabriel/data_no_outlier.xlsx')\n",
    "#data.shape"
   ]
  },
  {
   "cell_type": "code",
   "execution_count": null,
   "metadata": {},
   "outputs": [],
   "source": []
  }
 ],
 "metadata": {
  "kernelspec": {
   "display_name": "Python 3",
   "language": "python",
   "name": "python3"
  },
  "language_info": {
   "codemirror_mode": {
    "name": "ipython",
    "version": 3
   },
   "file_extension": ".py",
   "mimetype": "text/x-python",
   "name": "python",
   "nbconvert_exporter": "python",
   "pygments_lexer": "ipython3",
   "version": "3.6.4"
  }
 },
 "nbformat": 4,
 "nbformat_minor": 2
}
