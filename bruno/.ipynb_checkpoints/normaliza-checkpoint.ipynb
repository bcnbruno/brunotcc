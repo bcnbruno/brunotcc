{
 "cells": [
  {
   "cell_type": "code",
   "execution_count": 62,
   "metadata": {},
   "outputs": [],
   "source": [
    "import pandas as pd\n",
    "import numpy as np\n",
    "\n",
    "data = pd.read_excel('modules/databases/vinhos/wine.xlsx', header=None)\n",
    "# deleta a primeira linha que possui o cabeçalho\n",
    "data = data.drop(0)\n",
    "# deleta colunas indesejadas\n",
    "data = data.drop([0, 13], axis=1)\n",
    "\n",
    "for col in data.columns.values:\n",
    "    coluna = [float(e) for e in data[col].values]\n",
    "    coluna_normalizada = []\n",
    "    for a in coluna:\n",
    "        c = ( (a - min(coluna)) / (max(coluna) - min(coluna)) )\n",
    "        coluna_normalizada.append(c)\n",
    "    data[col] = coluna_normalizada\n",
    "#data.to_json('modules/databases/vinhos/wine_normalized.json')\n",
    "    "
   ]
  },
  {
   "cell_type": "code",
   "execution_count": null,
   "metadata": {},
   "outputs": [],
   "source": []
  }
 ],
 "metadata": {
  "kernelspec": {
   "display_name": "Python 3",
   "language": "python",
   "name": "python3"
  },
  "language_info": {
   "codemirror_mode": {
    "name": "ipython",
    "version": 3
   },
   "file_extension": ".py",
   "mimetype": "text/x-python",
   "name": "python",
   "nbconvert_exporter": "python",
   "pygments_lexer": "ipython3",
   "version": "3.6.4"
  }
 },
 "nbformat": 4,
 "nbformat_minor": 2
}
