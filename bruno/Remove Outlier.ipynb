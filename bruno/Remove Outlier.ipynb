{
 "cells": [
  {
   "cell_type": "code",
   "execution_count": 1,
   "metadata": {},
   "outputs": [],
   "source": [
    "import numpy as np\n",
    "import pandas as pd\n",
    "\n",
    "data = pd.read_excel('modules/databases/convulsao/seizure.xlsx', header=None)\n",
    "\n",
    "C = 3.5\n",
    "\n",
    "def no_outlier(dt):\n",
    "    for a in dt.columns.values:\n",
    "        dt[a] = [float(e) for e in dt[a].values]\n",
    "        media = dt[a].mean()\n",
    "        desvio = dt[a].std()\n",
    "        for b in dt.index.values:           \n",
    "            if( abs(dt[a][b] - media) > (C * desvio)  ):\n",
    "                dt = dt.drop(b) \n",
    "    \n",
    "    return dt\n",
    "\n",
    "data = no_outlier(data)\n",
    "#data\n",
    "data.to_excel('modules/databases/convulsao/seizure_no_outlier.xlsx')\n"
   ]
  },
  {
   "cell_type": "code",
   "execution_count": null,
   "metadata": {},
   "outputs": [],
   "source": []
  }
 ],
 "metadata": {
  "kernelspec": {
   "display_name": "Python 3",
   "language": "python",
   "name": "python3"
  },
  "language_info": {
   "codemirror_mode": {
    "name": "ipython",
    "version": 3
   },
   "file_extension": ".py",
   "mimetype": "text/x-python",
   "name": "python",
   "nbconvert_exporter": "python",
   "pygments_lexer": "ipython3",
   "version": "3.6.4"
  }
 },
 "nbformat": 4,
 "nbformat_minor": 2
}
