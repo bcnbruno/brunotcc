{
 "cells": [
  {
   "cell_type": "code",
   "execution_count": 11,
   "metadata": {},
   "outputs": [],
   "source": [
    "import pandas as pd\n",
    "import numpy as np\n",
    "\n",
    "data = pd.read_excel('modules/databases/convulsao/seizure_no_outlier.xlsx', header=None)\n",
    "\n",
    "def normaliza(dt):\n",
    "    for col in dt.columns.values:\n",
    "        coluna = [float(e) for e in dt[col].values]\n",
    "        coluna_normalizada = []\n",
    "        for a in coluna:\n",
    "            c = round(( (a - min(coluna)) / (max(coluna) - min(coluna)) ), 4)\n",
    "            coluna_normalizada.append(c)\n",
    "        dt[col] = coluna_normalizada\n",
    "    \n",
    "    return dt\n",
    "\n",
    "data = normaliza(data)\n",
    "#data\n",
    "#data.to_json('modules/databases/convulsao/seizure_normalized_no_outlier.json')\n",
    "data.to_excel('modules/databases/convulsao/seizure_normalized_no_outlier.xlsx')\n",
    "    "
   ]
  },
  {
   "cell_type": "code",
   "execution_count": null,
   "metadata": {},
   "outputs": [],
   "source": []
  }
 ],
 "metadata": {
  "kernelspec": {
   "display_name": "Python 3",
   "language": "python",
   "name": "python3"
  },
  "language_info": {
   "codemirror_mode": {
    "name": "ipython",
    "version": 3
   },
   "file_extension": ".py",
   "mimetype": "text/x-python",
   "name": "python",
   "nbconvert_exporter": "python",
   "pygments_lexer": "ipython3",
   "version": "3.6.4"
  }
 },
 "nbformat": 4,
 "nbformat_minor": 2
}
